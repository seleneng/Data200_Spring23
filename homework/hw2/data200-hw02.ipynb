{
 "cells": [
  {
   "cell_type": "markdown",
   "metadata": {},
   "source": [
    "# Data 200: Database Systems and Data Management for Data Analytics\n"
   ]
  },
  {
   "cell_type": "markdown",
   "metadata": {},
   "source": [
    "# Homework 2: Introduction to NumPy\n",
    "\n",
    "<font color='red'>**Due Date:** Feb 17 beginning of class </font>\n",
    "---\n",
    "Welcome!🎪 As a reminder, you will turn in your assignment by making changes on this Jupyter Notebook file which is already saved on your Github repository after you accepted my invitation for the assignment. You will work on this file locally. (You can either manually download the files from the online repo, or \"clone\" it via \"Code\">\"Open with Github Desktop\" which downloads a local copy for you, and makes \"committing\" easier.) Once you finish and you are ready to submit, go to Github and \"commit\" + \"push\" to turn in your assignment. Make sure to submit two things: Your completed assignment **as a Markdown file** and the source **.ipynb file**.\n",
    "\n",
    "I will grade your assignment by opening your \"hw1.ipynb\" file in Jupyter (in a directory containing all required data files), clicking \"Kernel > Restart & Run All\", reading the output, and reading your \"hw1.md\" file. Any code that fails to run due to errors receives a 0, so make sure to \"Restart & Run All\" your file and verify that all code runs without any issues before you submit.\n",
    "\n",
    "Please enter your name by double clicking on the cell below.\n"
   ]
  },
  {
   "cell_type": "markdown",
   "metadata": {},
   "source": [
    "# Name:"
   ]
  },
  {
   "cell_type": "code",
   "execution_count": 22,
   "metadata": {},
   "outputs": [
    {
     "data": {
      "text/html": [
       "<style>\n",
       "blockquote { background: #AEDE94; }\n",
       "h1 { \n",
       "    padding-top: 25px;\n",
       "    padding-bottom: 25px;\n",
       "    text-align: left; \n",
       "    padding-left: 10px;\n",
       "    background-color: #DDDDDD; \n",
       "    color: black;\n",
       "}\n",
       "h2 { \n",
       "    padding-top: 10px;\n",
       "    padding-bottom: 10px;\n",
       "    text-align: left; \n",
       "    padding-left: 5px;\n",
       "    background-color: #EEEEEE; \n",
       "    color: black;\n",
       "}\n",
       "\n",
       "div.exercise {\n",
       "\tbackground-color: #ffcccc;\n",
       "\tborder-color: #E9967A; \t\n",
       "\tborder-left: 5px solid #800080; \n",
       "\tpadding: 0.5em;\n",
       "}\n",
       "\n",
       "div.exercise-r {\n",
       "\tbackground-color: #fce8e8;\n",
       "\tborder-color: #E9967A; \t\n",
       "\tborder-left: 5px solid #800080; \n",
       "\tpadding: 0.5em;\n",
       "}\n",
       "\n",
       "\n",
       "span.sub-q {\n",
       "\tfont-weight: bold;\n",
       "}\n",
       "div.theme {\n",
       "\tbackground-color: #DDDDDD;\n",
       "\tborder-color: #E9967A; \t\n",
       "\tborder-left: 5px solid #800080; \n",
       "\tpadding: 0.5em;\n",
       "\tfont-size: 18pt;\n",
       "}\n",
       "div.gc { \n",
       "\tbackground-color: #AEDE94;\n",
       "\tborder-color: #E9967A; \t \n",
       "\tborder-left: 5px solid #800080; \n",
       "\tpadding: 0.5em;\n",
       "\tfont-size: 12pt;\n",
       "}\n",
       "p.q1 { \n",
       "    padding-top: 5px;\n",
       "    padding-bottom: 5px;\n",
       "    text-align: left; \n",
       "    padding-left: 5px;\n",
       "    background-color: #EEEEEE; \n",
       "    color: black;\n",
       "}\n",
       "header {\n",
       "   padding-top: 35px;\n",
       "    padding-bottom: 35px;\n",
       "    text-align: left; \n",
       "    padding-left: 10px;\n",
       "    background-color: #DDDDDD; \n",
       "    color: black;\n",
       "}\n",
       "</style>\n",
       "\n"
      ],
      "text/plain": [
       "<IPython.core.display.HTML object>"
      ]
     },
     "execution_count": 22,
     "metadata": {},
     "output_type": "execute_result"
    }
   ],
   "source": [
    "import numpy as np"
   ]
  },
  {
   "cell_type": "markdown",
   "metadata": {},
   "source": [
    "# Prelim Tasks\n",
    "\n",
    "- Read pages 3-15 in the textbook\n",
    "- Complete the **numPy** chapter of the **Introduction to Python** course on DataCamp. I have sent you an invitation link earlier last week.\n",
    "- Read notes posted on Github."
   ]
  },
  {
   "cell_type": "markdown",
   "metadata": {},
   "source": [
    "# Exercises"
   ]
  },
  {
   "cell_type": "markdown",
   "metadata": {},
   "source": [
    "Run the code cell below."
   ]
  },
  {
   "cell_type": "code",
   "execution_count": null,
   "metadata": {},
   "outputs": [],
   "source": [
    "values = [23, 19, 34, 50]"
   ]
  },
  {
   "cell_type": "markdown",
   "metadata": {},
   "source": [
    "<div class=\"exercise\"><b>Exercise 1</b></div> \n",
    "\n",
    "Convert the Python list `values` to a NumPy array called `np_values` and then print the array."
   ]
  },
  {
   "cell_type": "code",
   "execution_count": null,
   "metadata": {
    "scrolled": true
   },
   "outputs": [],
   "source": []
  },
  {
   "cell_type": "markdown",
   "metadata": {},
   "source": [
    "<div class=\"exercise\"><b>Exercise 2</b></div> \n",
    "\n",
    "Using the `np.arange(.)` function: <br><br>\n",
    "a) Create an array `x` with integers ranging from 12 to 36.<br>\n",
    "b) Create an array `x2` with even integers ranging from 10 to 20.<br>\n",
    "c) Create an array `x3` with integers from 8 to -4 in a backwards fashion.<br>\n",
    "\n",
    "Be sure to print the arrays to obtain the following expected output:<br><br>`[12 13 14 15 16 17 18 19 20 21 22 23 24 25 26 27 28 29 30 31 32 33 34 35]`<br>`[10 12 14 16 18]\n",
    "`<br>`[ 8  7  6  5  4  3  2  1  0 -1 -2 -3]`"
   ]
  },
  {
   "cell_type": "code",
   "execution_count": null,
   "metadata": {},
   "outputs": [],
   "source": []
  },
  {
   "cell_type": "markdown",
   "metadata": {},
   "source": [
    "Run the code cell below, which defines an array `mpg` of miles-per-gallon (mpg) of a fleet of vehicles."
   ]
  },
  {
   "cell_type": "code",
   "execution_count": null,
   "metadata": {},
   "outputs": [],
   "source": [
    "mpg = np.array([19, 23, 20, 21, 20, 23, 21, 21, 23, 19, 24, 23, 28, 19, 18, 21, 23, 17, 20, 20, 20, 21, 24, 18, 15])"
   ]
  },
  {
   "cell_type": "markdown",
   "metadata": {},
   "source": [
    "<div class=\"exercise\"><b>Exercise 3</b></div> \n",
    "\n",
    "Develop Python code to accomplish the following (you may want to review Boolean Indexing):<br><br>\n",
    "a) Print the elements in `mpg` from index 3 to 10<br>\n",
    "b) Print the elements in `mpg` from index 15 forward<br>\n",
    "c) Create and print an array `goodMpg` that contains all the elements in `mpg` that are >= 23<br>\n",
    "d) Create and print an array `okMpg` that contains all the elements in `mpg` that are strictly between 18 and 23<br>\n",
    "e) Using *vectorization*, convert the `mpg` values to kilometers-per-liter (kpl) and assign it to the array `kpl`--be sure to print the new array. Note: 1 mpg = 0.425 kpl.<br>\n",
    "\n",
    "The expected output for this exercise is as follows:<br>\n",
    "    \n",
    "<code>[21 20 23 21 21 23 19]\n",
    "[21 23 17 20 20 20 21 24 18 15]\n",
    "[23 23 23 24 23 28 23 24]\n",
    "[19 20 21 20 21 21 19 19 21 20 20 20 21]\n",
    "[  8.075   9.775   8.5     8.925   8.5     9.775   8.925   8.925   9.775\n",
    "   8.075  10.2     9.775  11.9     8.075   7.65    8.925   9.775   7.225\n",
    "   8.5     8.5     8.5     8.925  10.2     7.65    6.375]</code>"
   ]
  },
  {
   "cell_type": "code",
   "execution_count": null,
   "metadata": {},
   "outputs": [],
   "source": []
  },
  {
   "cell_type": "markdown",
   "metadata": {},
   "source": [
    "<div class=\"exercise\"><b>Exercise 4</b></div> \n",
    "Develop Python code to do the following:<br>\n",
    "\n",
    "a) Create and print a 3x3 matrix A (2D NumPy array) with values ranging from 2 to 10 (using `arange(.)` and `reshape(.)`). <br>\n",
    "b) Negate all the numbers of A that are strictly between 3 and 7 and then print the updated matrix.<br>\n",
    "\n",
    "The expected output for this exercise is as follows:<br>\n",
    "        \n",
    "<code>[[ 2  3  4]\n",
    " [ 5  6  7]\n",
    " [ 8  9 10]]</code>\n",
    "\n",
    "<code>\n",
    "[[ 2  3 -4]\n",
    " [-5 -6  7]\n",
    " [ 8  9 10]]</code>\n"
   ]
  },
  {
   "cell_type": "code",
   "execution_count": null,
   "metadata": {},
   "outputs": [],
   "source": []
  },
  {
   "cell_type": "markdown",
   "metadata": {},
   "source": [
    "<div class=\"exercise\"><b>Exercise 5</b></div> Develop Python code to do the following:<br><br>\n",
    "a) Print the first row of A (from the previous exercise--the updated matrix from part (b)<br>\n",
    "b) Print the third column of A (from the previous exercise)--make sure the output is a 3x1 column!<br>\n",
    "c) Print the sum of the values of the second column of A<br>\n",
    "d) Print the average of all the values of A<br>\n",
    "e) Print the median of the values of the first column of A<br>\n",
    "\n",
    "The expected output for this exercise is as follows:<br>\n",
    "        \n",
    "<code>[ 2  3 -4]</code>\n",
    "\n",
    "<code>\n",
    "[[-4]\n",
    " [ 7]\n",
    " [10]]</code>\n",
    "\n",
    "`6`\n",
    "\n",
    "`2.66666666667`\n",
    "\n",
    "`2.0`"
   ]
  },
  {
   "cell_type": "code",
   "execution_count": null,
   "metadata": {
    "scrolled": true
   },
   "outputs": [],
   "source": []
  },
  {
   "cell_type": "markdown",
   "metadata": {},
   "source": [
    "<div class=\"exercise\"><b>Exercise 6</b></div>Use *broadcasting* to add the row [-2 1 2] to each of the rows of A<br>\n",
    "\n",
    "The expected output for this exercise is as follows:<br>\n",
    "        \n",
    "<code>[[ 0  4 -2]\n",
    " [-7 -5  9]\n",
    " [ 6 10 12]]</code>"
   ]
  },
  {
   "cell_type": "code",
   "execution_count": null,
   "metadata": {},
   "outputs": [],
   "source": []
  },
  {
   "cell_type": "markdown",
   "metadata": {},
   "source": [
    "<div class=\"exercise\"><b>Exercise 7</b></div>Create and print a 4x3x2 (3-dimensional) array B consisting of the numbers 0 through 23\n",
    "\n",
    "The expected output for this exercise is as follows::<br>\n",
    "        \n",
    "<code>[[[ 0  1]\n",
    "  [ 2  3]\n",
    "  [ 4  5]]</code>\n",
    "\n",
    " <code>[[ 6  7]\n",
    "  [ 8  9]\n",
    "  [10 11]]</code>\n",
    "\n",
    " <code>[[12 13]\n",
    "  [14 15]\n",
    "  [16 17]]</code>\n",
    "\n",
    " <code>[[18 19]\n",
    "  [20 21]\n",
    "  [22 23]]]</code>"
   ]
  },
  {
   "cell_type": "code",
   "execution_count": null,
   "metadata": {},
   "outputs": [],
   "source": []
  }
 ],
 "metadata": {
  "celltoolbar": "Raw Cell Format",
  "kernelspec": {
   "display_name": "Python 3 (ipykernel)",
   "language": "python",
   "name": "python3"
  },
  "language_info": {
   "codemirror_mode": {
    "name": "ipython",
    "version": 3
   },
   "file_extension": ".py",
   "mimetype": "text/x-python",
   "name": "python",
   "nbconvert_exporter": "python",
   "pygments_lexer": "ipython3",
   "version": "3.9.13"
  }
 },
 "nbformat": 4,
 "nbformat_minor": 2
}
