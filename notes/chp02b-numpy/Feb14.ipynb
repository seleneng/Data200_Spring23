{
 "cells": [
  {
   "cell_type": "code",
   "execution_count": 1,
   "id": "29d0c5f1",
   "metadata": {},
   "outputs": [],
   "source": [
    "import numpy as np"
   ]
  },
  {
   "cell_type": "code",
   "execution_count": 2,
   "id": "9a47b7a1",
   "metadata": {},
   "outputs": [],
   "source": [
    "# here are some height data in inches\n",
    "height = [72,68,69,68,64,72,72]"
   ]
  },
  {
   "cell_type": "code",
   "execution_count": 3,
   "id": "92ed3092",
   "metadata": {},
   "outputs": [
    {
     "name": "stdout",
     "output_type": "stream",
     "text": [
      "2.22 µs ± 59.2 ns per loop (mean ± std. dev. of 7 runs, 100000 loops each)\n"
     ]
    }
   ],
   "source": [
    "%%timeit\n",
    "\n",
    "# Convert these height data from inches to meters (1 inch = 0.0254 m)\n",
    "height_meter = np.multiply(height,0.0254)\n",
    "height_meter"
   ]
  },
  {
   "cell_type": "code",
   "execution_count": 4,
   "id": "8c6e4278",
   "metadata": {},
   "outputs": [
    {
     "name": "stdout",
     "output_type": "stream",
     "text": [
      "669 ns ± 12.8 ns per loop (mean ± std. dev. of 7 runs, 1000000 loops each)\n"
     ]
    }
   ],
   "source": [
    "%%timeit\n",
    "\n",
    "for i in range(len(height)):\n",
    "    height[i] *= 0.0254\n"
   ]
  },
  {
   "cell_type": "code",
   "execution_count": 5,
   "id": "f01956d9",
   "metadata": {},
   "outputs": [
    {
     "name": "stdout",
     "output_type": "stream",
     "text": [
      "[72, 68, 69, 68, 64, 72, 72]\n",
      "[1.8   1.7   1.725 1.7   1.6   1.8   1.8  ]\n"
     ]
    }
   ],
   "source": [
    "# another numpy solution\n",
    "height = [72,68,69,68,64,72,72]\n",
    "\n",
    "np_height = np.array(height)\n",
    "print(height)\n",
    "np_height_m = np_height*0.025\n",
    "print(np_height_m)"
   ]
  },
  {
   "cell_type": "code",
   "execution_count": 6,
   "id": "8c0cde08",
   "metadata": {},
   "outputs": [
    {
     "name": "stdout",
     "output_type": "stream",
     "text": [
      "[2, 4, 6, 1, 3, 5]\n"
     ]
    }
   ],
   "source": [
    "mylist1 = [2,4,6]\n",
    "mylist2 = [1,3,5]\n",
    "print(mylist1 + mylist2)"
   ]
  },
  {
   "cell_type": "code",
   "execution_count": 7,
   "id": "aa881234",
   "metadata": {},
   "outputs": [
    {
     "name": "stdout",
     "output_type": "stream",
     "text": [
      "[ 3  7 11]\n"
     ]
    }
   ],
   "source": [
    "np_mylist1 = np.array(mylist1)\n",
    "np_mylist2 = np.array(mylist2)\n",
    "print(np_mylist1 + np_mylist2)"
   ]
  },
  {
   "cell_type": "code",
   "execution_count": 8,
   "id": "f1f632c2",
   "metadata": {},
   "outputs": [],
   "source": [
    "numbers = [10,15,20,35]\n",
    "numbers2 = [10.0,15.1,19.5]"
   ]
  },
  {
   "cell_type": "code",
   "execution_count": 9,
   "id": "87b57ffb",
   "metadata": {},
   "outputs": [
    {
     "name": "stdout",
     "output_type": "stream",
     "text": [
      "[10. 15. 20. 35.]\n",
      "[10.  15.1 19.5]\n"
     ]
    }
   ],
   "source": [
    "x = np.array(numbers, dtype='float') # possible to set dtype at the beginning\n",
    "y = np.array(numbers2)\n",
    "print(x)\n",
    "print(y)"
   ]
  },
  {
   "cell_type": "code",
   "execution_count": 10,
   "id": "351dcdc9",
   "metadata": {},
   "outputs": [
    {
     "data": {
      "text/plain": [
       "dtype('float64')"
      ]
     },
     "execution_count": 10,
     "metadata": {},
     "output_type": "execute_result"
    }
   ],
   "source": [
    "x.dtype"
   ]
  },
  {
   "cell_type": "code",
   "execution_count": 11,
   "id": "cc47fabb",
   "metadata": {},
   "outputs": [
    {
     "data": {
      "text/plain": [
       "array([10., 15., 20., 35.])"
      ]
     },
     "execution_count": 11,
     "metadata": {},
     "output_type": "execute_result"
    }
   ],
   "source": [
    "x"
   ]
  },
  {
   "cell_type": "code",
   "execution_count": 12,
   "id": "8e53e215",
   "metadata": {},
   "outputs": [
    {
     "data": {
      "text/plain": [
       "10.0"
      ]
     },
     "execution_count": 12,
     "metadata": {},
     "output_type": "execute_result"
    }
   ],
   "source": [
    "x[0] # first element"
   ]
  },
  {
   "cell_type": "code",
   "execution_count": 13,
   "id": "a7728935",
   "metadata": {},
   "outputs": [
    {
     "data": {
      "text/plain": [
       "array([10., 15.])"
      ]
     },
     "execution_count": 13,
     "metadata": {},
     "output_type": "execute_result"
    }
   ],
   "source": [
    "x[0:2] # first two elements"
   ]
  },
  {
   "cell_type": "code",
   "execution_count": 14,
   "id": "9d0bcd21",
   "metadata": {},
   "outputs": [
    {
     "data": {
      "text/plain": [
       "array([20., 35.])"
      ]
     },
     "execution_count": 14,
     "metadata": {},
     "output_type": "execute_result"
    }
   ],
   "source": [
    "x[2:]  # last two elements"
   ]
  },
  {
   "cell_type": "code",
   "execution_count": 15,
   "id": "19de92ac",
   "metadata": {},
   "outputs": [
    {
     "data": {
      "text/plain": [
       "array([35., 20., 15., 10.])"
      ]
     },
     "execution_count": 15,
     "metadata": {},
     "output_type": "execute_result"
    }
   ],
   "source": [
    "x[::-1] # reverses the array"
   ]
  },
  {
   "cell_type": "code",
   "execution_count": 16,
   "id": "82021a84",
   "metadata": {},
   "outputs": [
    {
     "data": {
      "text/plain": [
       "array([1, 2, 3, 4, 5, 6, 7])"
      ]
     },
     "execution_count": 16,
     "metadata": {},
     "output_type": "execute_result"
    }
   ],
   "source": [
    "np.arange(1,8,1)"
   ]
  },
  {
   "cell_type": "code",
   "execution_count": 17,
   "id": "2f076438",
   "metadata": {},
   "outputs": [
    {
     "data": {
      "text/plain": [
       "array([1, 2, 3, 4, 5, 6, 7])"
      ]
     },
     "execution_count": 17,
     "metadata": {},
     "output_type": "execute_result"
    }
   ],
   "source": [
    "np.arange(1,8) # default step is 1"
   ]
  },
  {
   "cell_type": "code",
   "execution_count": 18,
   "id": "ee94e57b",
   "metadata": {},
   "outputs": [
    {
     "data": {
      "text/plain": [
       "array([1, 3, 5, 7])"
      ]
     },
     "execution_count": 18,
     "metadata": {},
     "output_type": "execute_result"
    }
   ],
   "source": [
    "np.arange(1,8,2)"
   ]
  },
  {
   "cell_type": "code",
   "execution_count": 19,
   "id": "44ba4d46",
   "metadata": {},
   "outputs": [
    {
     "data": {
      "text/plain": [
       "array([1, 6])"
      ]
     },
     "execution_count": 19,
     "metadata": {},
     "output_type": "execute_result"
    }
   ],
   "source": [
    "np.arange(1,8,5)"
   ]
  },
  {
   "cell_type": "code",
   "execution_count": 20,
   "id": "934f43cd",
   "metadata": {},
   "outputs": [
    {
     "data": {
      "text/plain": [
       "array([-6, -5, -4, -3, -2, -1,  0,  1,  2])"
      ]
     },
     "execution_count": 20,
     "metadata": {},
     "output_type": "execute_result"
    }
   ],
   "source": [
    "np.arange(-6,3) # works with negative numbers"
   ]
  },
  {
   "cell_type": "code",
   "execution_count": 21,
   "id": "024d9ad3",
   "metadata": {},
   "outputs": [
    {
     "data": {
      "text/plain": [
       "array([ 2.,  4.,  6.,  8., 10.])"
      ]
     },
     "execution_count": 21,
     "metadata": {},
     "output_type": "execute_result"
    }
   ],
   "source": [
    "np.arange(2,10.1,2) # this includes 10"
   ]
  },
  {
   "cell_type": "code",
   "execution_count": 22,
   "id": "3bf7022b",
   "metadata": {},
   "outputs": [
    {
     "data": {
      "text/plain": [
       "array([2, 4, 6, 8])"
      ]
     },
     "execution_count": 22,
     "metadata": {},
     "output_type": "execute_result"
    }
   ],
   "source": [
    "np.arange(2,10,2) # does not include 10"
   ]
  },
  {
   "cell_type": "code",
   "execution_count": 23,
   "id": "88618c24",
   "metadata": {},
   "outputs": [
    {
     "data": {
      "text/plain": [
       "array([5, 4, 3, 2])"
      ]
     },
     "execution_count": 23,
     "metadata": {},
     "output_type": "execute_result"
    }
   ],
   "source": [
    "np.arange(5,1,-1) # reverse order"
   ]
  },
  {
   "cell_type": "code",
   "execution_count": 24,
   "id": "d3fda616",
   "metadata": {},
   "outputs": [
    {
     "name": "stdout",
     "output_type": "stream",
     "text": [
      "[10. 15. 20. 35.]\n"
     ]
    }
   ],
   "source": [
    "print(x)"
   ]
  },
  {
   "cell_type": "code",
   "execution_count": 25,
   "id": "51c28e66",
   "metadata": {},
   "outputs": [
    {
     "data": {
      "text/plain": [
       "array([20., 35.])"
      ]
     },
     "execution_count": 25,
     "metadata": {},
     "output_type": "execute_result"
    }
   ],
   "source": [
    "# slice x such that you get returned entries>=20\n",
    "x[x>=20]"
   ]
  },
  {
   "cell_type": "code",
   "execution_count": 26,
   "id": "9b19827d",
   "metadata": {},
   "outputs": [
    {
     "data": {
      "text/plain": [
       "array([], dtype=float64)"
      ]
     },
     "execution_count": 26,
     "metadata": {},
     "output_type": "execute_result"
    }
   ],
   "source": [
    "# multiple conditions, and\n",
    "# return elements in x that are <12 and > 25\n",
    "x[(x>25) & (x<12)]"
   ]
  },
  {
   "cell_type": "code",
   "execution_count": 27,
   "id": "432083b8",
   "metadata": {},
   "outputs": [
    {
     "data": {
      "text/plain": [
       "array([10., 35.])"
      ]
     },
     "execution_count": 27,
     "metadata": {},
     "output_type": "execute_result"
    }
   ],
   "source": [
    "# multiple conditions, or\n",
    "# return elements in x that are <12 or > 25\n",
    "x[(x>25) | (x<12)]"
   ]
  },
  {
   "cell_type": "code",
   "execution_count": 28,
   "id": "c43c7e45",
   "metadata": {},
   "outputs": [
    {
     "data": {
      "text/plain": [
       "array([20.])"
      ]
     },
     "execution_count": 28,
     "metadata": {},
     "output_type": "execute_result"
    }
   ],
   "source": [
    "# return elements equal to 20\n",
    "x[x==20]"
   ]
  },
  {
   "cell_type": "code",
   "execution_count": 29,
   "id": "3fcf2fa9",
   "metadata": {},
   "outputs": [
    {
     "data": {
      "text/plain": [
       "array([10., 15., 35.])"
      ]
     },
     "execution_count": 29,
     "metadata": {},
     "output_type": "execute_result"
    }
   ],
   "source": [
    "# return all elements except 20\n",
    "x[~(x==20)]"
   ]
  },
  {
   "cell_type": "code",
   "execution_count": 30,
   "id": "74a82264",
   "metadata": {},
   "outputs": [
    {
     "name": "stdout",
     "output_type": "stream",
     "text": [
      "[[ 72  68  69  68  64  72  72]\n",
      " [200 165 160 135 120 162 190]]\n"
     ]
    }
   ],
   "source": [
    "# 2d arrays\n",
    "# here are some height data in inches\n",
    "height = [72,68,69,68,64,72,72]\n",
    "# here are some weight data in lbs\n",
    "weight = [200,165,160,135,120,162,190]\n",
    "\n",
    "# create a 2d numpy array\n",
    "metrics = np.array([height,weight])\n",
    "print(metrics)"
   ]
  },
  {
   "cell_type": "code",
   "execution_count": 31,
   "id": "72522dc6",
   "metadata": {},
   "outputs": [
    {
     "data": {
      "text/plain": [
       "(2, 7)"
      ]
     },
     "execution_count": 31,
     "metadata": {},
     "output_type": "execute_result"
    }
   ],
   "source": [
    "metrics.shape # shape of matrix"
   ]
  },
  {
   "cell_type": "code",
   "execution_count": 32,
   "id": "2ee0b11c",
   "metadata": {},
   "outputs": [
    {
     "data": {
      "text/plain": [
       "14"
      ]
     },
     "execution_count": 32,
     "metadata": {},
     "output_type": "execute_result"
    }
   ],
   "source": [
    "metrics.size # size of the matrix"
   ]
  },
  {
   "cell_type": "code",
   "execution_count": 33,
   "id": "de65fb55",
   "metadata": {},
   "outputs": [
    {
     "data": {
      "text/plain": [
       "2"
      ]
     },
     "execution_count": 33,
     "metadata": {},
     "output_type": "execute_result"
    }
   ],
   "source": [
    "metrics.ndim # dimensions of the matrix"
   ]
  },
  {
   "cell_type": "code",
   "execution_count": 34,
   "id": "8ee3fee7",
   "metadata": {},
   "outputs": [
    {
     "data": {
      "text/plain": [
       "160"
      ]
     },
     "execution_count": 34,
     "metadata": {},
     "output_type": "execute_result"
    }
   ],
   "source": [
    "metrics[1,2] # access 160: row position 1, col position 2"
   ]
  },
  {
   "cell_type": "code",
   "execution_count": 35,
   "id": "e1d4d36b",
   "metadata": {},
   "outputs": [
    {
     "data": {
      "text/plain": [
       "160"
      ]
     },
     "execution_count": 35,
     "metadata": {},
     "output_type": "execute_result"
    }
   ],
   "source": [
    "metrics[1][2] # same number returned"
   ]
  },
  {
   "cell_type": "code",
   "execution_count": 36,
   "id": "16fc643f",
   "metadata": {},
   "outputs": [
    {
     "data": {
      "text/plain": [
       "array([200, 165, 160])"
      ]
     },
     "execution_count": 36,
     "metadata": {},
     "output_type": "execute_result"
    }
   ],
   "source": [
    "metrics[1,0:3] # return 200 165 160: row position 1, col position 0:3"
   ]
  },
  {
   "cell_type": "code",
   "execution_count": 49,
   "id": "c0329700",
   "metadata": {},
   "outputs": [
    {
     "name": "stdout",
     "output_type": "stream",
     "text": [
      "[[1 2 3]\n",
      " [4 5 6]\n",
      " [7 8 9]]\n"
     ]
    }
   ],
   "source": [
    "# reshape() function\n",
    "# create a vector of numbers from 1 through 9, step=1\n",
    "x = np.arange(1,10)\n",
    "x.reshape(3,3) # convert x such that x now has 3 rows and 3 colprint(x)"
   ]
  },
  {
   "cell_type": "code",
   "execution_count": 45,
   "id": "c2fddc95",
   "metadata": {},
   "outputs": [
    {
     "data": {
      "text/plain": [
       "array([[1, 2, 3],\n",
       "       [4, 5, 6],\n",
       "       [7, 8, 9]])"
      ]
     },
     "execution_count": 45,
     "metadata": {},
     "output_type": "execute_result"
    }
   ],
   "source": [
    "# resize() overwrites the object\n",
    "x = np.arange(1,10)\n",
    "x.resize(3,3) # convert x such that x now has 3 rows and 3 cols\n",
    "x"
   ]
  },
  {
   "cell_type": "code",
   "execution_count": 52,
   "id": "913b3a72",
   "metadata": {},
   "outputs": [
    {
     "data": {
      "text/plain": [
       "array([[ 72, 200],\n",
       "       [ 68, 165],\n",
       "       [ 69, 160],\n",
       "       [ 68, 138],\n",
       "       [ 64, 120],\n",
       "       [ 72, 162]])"
      ]
     },
     "execution_count": 52,
     "metadata": {},
     "output_type": "execute_result"
    }
   ],
   "source": [
    "data = np.array([[72,200],[68,165],[69,160],[68,138],[64,120],[72,162]])\n",
    "data"
   ]
  },
  {
   "cell_type": "code",
   "execution_count": 55,
   "id": "5e65b2ae",
   "metadata": {},
   "outputs": [
    {
     "data": {
      "text/plain": [
       "array([[ 1.8288, 90.6   ],\n",
       "       [ 1.7272, 74.745 ],\n",
       "       [ 1.7526, 72.48  ],\n",
       "       [ 1.7272, 62.514 ],\n",
       "       [ 1.6256, 54.36  ],\n",
       "       [ 1.8288, 73.386 ]])"
      ]
     },
     "execution_count": 55,
     "metadata": {},
     "output_type": "execute_result"
    }
   ],
   "source": [
    "# 1 inch = 0.0254 meter\n",
    "# 1 lbs = 0.453 kg\n",
    "# convert the inch and lbs data to meters and kgs:\n",
    "data * np.array([.0254,.453])\n",
    "# alternative:\n",
    "np.multiply(data, [.0254,.453])"
   ]
  },
  {
   "cell_type": "code",
   "execution_count": 61,
   "id": "75318080",
   "metadata": {},
   "outputs": [
    {
     "data": {
      "text/plain": [
       "array([[[ 0,  1,  2],\n",
       "        [ 3,  4,  5],\n",
       "        [ 6,  7,  8],\n",
       "        [ 9, 10, 11]],\n",
       "\n",
       "       [[12, 13, 14],\n",
       "        [15, 16, 17],\n",
       "        [18, 19, 20],\n",
       "        [21, 22, 23]],\n",
       "\n",
       "       [[24, 25, 26],\n",
       "        [27, 28, 29],\n",
       "        [30, 31, 32],\n",
       "        [33, 34, 35]]])"
      ]
     },
     "execution_count": 61,
     "metadata": {},
     "output_type": "execute_result"
    }
   ],
   "source": [
    "#3d array\n",
    "data = np.arange(0,36).reshape(3,4,3) # first number is matrix num, second is \n",
    "#num of rows in each matrix, third is num of cols in each matrix\n",
    "data"
   ]
  },
  {
   "cell_type": "code",
   "execution_count": 63,
   "id": "a1ad5097",
   "metadata": {},
   "outputs": [
    {
     "data": {
      "text/plain": [
       "27"
      ]
     },
     "execution_count": 63,
     "metadata": {},
     "output_type": "execute_result"
    }
   ],
   "source": [
    "# access \"27\":\n",
    "data[2,1,0]"
   ]
  },
  {
   "cell_type": "code",
   "execution_count": 64,
   "id": "cd57561f",
   "metadata": {},
   "outputs": [
    {
     "data": {
      "text/plain": [
       "array([25, 28, 31, 34])"
      ]
     },
     "execution_count": 64,
     "metadata": {},
     "output_type": "execute_result"
    }
   ],
   "source": [
    "# access the second col of matrix 3\n",
    "data[2,:,1] # \":\" chooses all rows"
   ]
  },
  {
   "cell_type": "code",
   "execution_count": 67,
   "id": "2d8ecfe0",
   "metadata": {},
   "outputs": [
    {
     "data": {
      "text/plain": [
       "array([[[[[1., 1., 1., 1.],\n",
       "          [1., 1., 1., 1.],\n",
       "          [1., 1., 1., 1.],\n",
       "          [1., 1., 1., 1.],\n",
       "          [1., 1., 1., 1.],\n",
       "          [1., 1., 1., 1.],\n",
       "          [1., 1., 1., 1.],\n",
       "          [1., 1., 1., 1.]]],\n",
       "\n",
       "\n",
       "        [[[1., 1., 1., 1.],\n",
       "          [1., 1., 1., 1.],\n",
       "          [1., 1., 1., 1.],\n",
       "          [1., 1., 1., 1.],\n",
       "          [1., 1., 1., 1.],\n",
       "          [1., 1., 1., 1.],\n",
       "          [1., 1., 1., 1.],\n",
       "          [1., 1., 1., 1.]]],\n",
       "\n",
       "\n",
       "        [[[1., 1., 1., 1.],\n",
       "          [1., 1., 1., 1.],\n",
       "          [1., 1., 1., 1.],\n",
       "          [1., 1., 1., 1.],\n",
       "          [1., 1., 1., 1.],\n",
       "          [1., 1., 1., 1.],\n",
       "          [1., 1., 1., 1.],\n",
       "          [1., 1., 1., 1.]]],\n",
       "\n",
       "\n",
       "        [[[1., 1., 1., 1.],\n",
       "          [1., 1., 1., 1.],\n",
       "          [1., 1., 1., 1.],\n",
       "          [1., 1., 1., 1.],\n",
       "          [1., 1., 1., 1.],\n",
       "          [1., 1., 1., 1.],\n",
       "          [1., 1., 1., 1.],\n",
       "          [1., 1., 1., 1.]]],\n",
       "\n",
       "\n",
       "        [[[1., 1., 1., 1.],\n",
       "          [1., 1., 1., 1.],\n",
       "          [1., 1., 1., 1.],\n",
       "          [1., 1., 1., 1.],\n",
       "          [1., 1., 1., 1.],\n",
       "          [1., 1., 1., 1.],\n",
       "          [1., 1., 1., 1.],\n",
       "          [1., 1., 1., 1.]]]],\n",
       "\n",
       "\n",
       "\n",
       "       [[[[1., 1., 1., 1.],\n",
       "          [1., 1., 1., 1.],\n",
       "          [1., 1., 1., 1.],\n",
       "          [1., 1., 1., 1.],\n",
       "          [1., 1., 1., 1.],\n",
       "          [1., 1., 1., 1.],\n",
       "          [1., 1., 1., 1.],\n",
       "          [1., 1., 1., 1.]]],\n",
       "\n",
       "\n",
       "        [[[1., 1., 1., 1.],\n",
       "          [1., 1., 1., 1.],\n",
       "          [1., 1., 1., 1.],\n",
       "          [1., 1., 1., 1.],\n",
       "          [1., 1., 1., 1.],\n",
       "          [1., 1., 1., 1.],\n",
       "          [1., 1., 1., 1.],\n",
       "          [1., 1., 1., 1.]]],\n",
       "\n",
       "\n",
       "        [[[1., 1., 1., 1.],\n",
       "          [1., 1., 1., 1.],\n",
       "          [1., 1., 1., 1.],\n",
       "          [1., 1., 1., 1.],\n",
       "          [1., 1., 1., 1.],\n",
       "          [1., 1., 1., 1.],\n",
       "          [1., 1., 1., 1.],\n",
       "          [1., 1., 1., 1.]]],\n",
       "\n",
       "\n",
       "        [[[1., 1., 1., 1.],\n",
       "          [1., 1., 1., 1.],\n",
       "          [1., 1., 1., 1.],\n",
       "          [1., 1., 1., 1.],\n",
       "          [1., 1., 1., 1.],\n",
       "          [1., 1., 1., 1.],\n",
       "          [1., 1., 1., 1.],\n",
       "          [1., 1., 1., 1.]]],\n",
       "\n",
       "\n",
       "        [[[1., 1., 1., 1.],\n",
       "          [1., 1., 1., 1.],\n",
       "          [1., 1., 1., 1.],\n",
       "          [1., 1., 1., 1.],\n",
       "          [1., 1., 1., 1.],\n",
       "          [1., 1., 1., 1.],\n",
       "          [1., 1., 1., 1.],\n",
       "          [1., 1., 1., 1.]]]]])"
      ]
     },
     "execution_count": 67,
     "metadata": {},
     "output_type": "execute_result"
    }
   ],
   "source": [
    "a = np.ones((2,5,1,8,4))\n",
    "a"
   ]
  },
  {
   "cell_type": "code",
   "execution_count": 65,
   "id": "fba066f8",
   "metadata": {},
   "outputs": [
    {
     "data": {
      "text/plain": [
       "array([[[1., 1., 1., 1.]],\n",
       "\n",
       "       [[1., 1., 1., 1.]],\n",
       "\n",
       "       [[1., 1., 1., 1.]]])"
      ]
     },
     "execution_count": 65,
     "metadata": {},
     "output_type": "execute_result"
    }
   ],
   "source": [
    "b=np.ones((3,1,4))\n",
    "b"
   ]
  },
  {
   "cell_type": "code",
   "execution_count": null,
   "id": "3e910b91",
   "metadata": {},
   "outputs": [],
   "source": []
  },
  {
   "cell_type": "code",
   "execution_count": null,
   "id": "ad290e40",
   "metadata": {},
   "outputs": [],
   "source": []
  },
  {
   "cell_type": "code",
   "execution_count": null,
   "id": "9814aeed",
   "metadata": {},
   "outputs": [],
   "source": []
  },
  {
   "cell_type": "code",
   "execution_count": null,
   "id": "1b5335c9",
   "metadata": {},
   "outputs": [],
   "source": []
  },
  {
   "cell_type": "code",
   "execution_count": null,
   "id": "ca9f8777",
   "metadata": {},
   "outputs": [],
   "source": []
  }
 ],
 "metadata": {
  "kernelspec": {
   "display_name": "Python 3",
   "language": "python",
   "name": "python3"
  },
  "language_info": {
   "codemirror_mode": {
    "name": "ipython",
    "version": 3
   },
   "file_extension": ".py",
   "mimetype": "text/x-python",
   "name": "python",
   "nbconvert_exporter": "python",
   "pygments_lexer": "ipython3",
   "version": "3.9.11"
  }
 },
 "nbformat": 4,
 "nbformat_minor": 5
}
