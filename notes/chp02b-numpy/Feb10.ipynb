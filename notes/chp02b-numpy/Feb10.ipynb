{
 "cells": [
  {
   "cell_type": "code",
   "execution_count": 7,
   "id": "98f6d675",
   "metadata": {},
   "outputs": [],
   "source": [
    "import numpy as np"
   ]
  },
  {
   "cell_type": "code",
   "execution_count": 12,
   "id": "976e7750",
   "metadata": {},
   "outputs": [],
   "source": [
    "# here are some height data in inches\n",
    "height = [72,68,69,68,64,72,72]"
   ]
  },
  {
   "cell_type": "code",
   "execution_count": 13,
   "id": "6fce2c1c",
   "metadata": {},
   "outputs": [
    {
     "name": "stdout",
     "output_type": "stream",
     "text": [
      "2.2 µs ± 66.1 ns per loop (mean ± std. dev. of 7 runs, 100000 loops each)\n"
     ]
    }
   ],
   "source": [
    "%%timeit\n",
    "\n",
    "# Convert these height data from inches to meters (1 inch = 0.0254 m)\n",
    "height_meter = np.multiply(height,0.0254)\n",
    "height_meter"
   ]
  },
  {
   "cell_type": "code",
   "execution_count": 14,
   "id": "3cfb511e",
   "metadata": {},
   "outputs": [
    {
     "name": "stdout",
     "output_type": "stream",
     "text": [
      "675 ns ± 5.83 ns per loop (mean ± std. dev. of 7 runs, 1000000 loops each)\n"
     ]
    }
   ],
   "source": [
    "%%timeit\n",
    "\n",
    "for i in range(len(height)):\n",
    "    height[i] *= 0.0254\n"
   ]
  },
  {
   "cell_type": "code",
   "execution_count": 17,
   "id": "71d8fc18",
   "metadata": {},
   "outputs": [
    {
     "name": "stdout",
     "output_type": "stream",
     "text": [
      "[72, 68, 69, 68, 64, 72, 72]\n",
      "[1.8   1.7   1.725 1.7   1.6   1.8   1.8  ]\n"
     ]
    }
   ],
   "source": [
    "# another numpy solution\n",
    "height = [72,68,69,68,64,72,72]\n",
    "\n",
    "np_height = np.array(height)\n",
    "print(height)\n",
    "np_height_m = np_height*0.025\n",
    "print(np_height_m)"
   ]
  },
  {
   "cell_type": "code",
   "execution_count": 18,
   "id": "61f118b7",
   "metadata": {},
   "outputs": [
    {
     "name": "stdout",
     "output_type": "stream",
     "text": [
      "[2, 4, 6, 1, 3, 5]\n"
     ]
    }
   ],
   "source": [
    "mylist1 = [2,4,6]\n",
    "mylist2 = [1,3,5]\n",
    "print(mylist1 + mylist2)"
   ]
  },
  {
   "cell_type": "code",
   "execution_count": 19,
   "id": "09b704e5",
   "metadata": {},
   "outputs": [
    {
     "name": "stdout",
     "output_type": "stream",
     "text": [
      "[ 3  7 11]\n"
     ]
    }
   ],
   "source": [
    "np_mylist1 = np.array(mylist1)\n",
    "np_mylist2 = np.array(mylist2)\n",
    "print(np_mylist1 + np_mylist2)"
   ]
  },
  {
   "cell_type": "code",
   "execution_count": 21,
   "id": "ad37f6b2",
   "metadata": {},
   "outputs": [],
   "source": [
    "numbers = [10,15,20,35]\n",
    "numbers2 = [10.0,15.1,19.5]"
   ]
  },
  {
   "cell_type": "code",
   "execution_count": 27,
   "id": "62f1ac43",
   "metadata": {},
   "outputs": [
    {
     "name": "stdout",
     "output_type": "stream",
     "text": [
      "[10. 15. 20. 35.]\n",
      "[10.  15.1 19.5]\n"
     ]
    }
   ],
   "source": [
    "x = np.array(numbers, dtype='float') # possible to set dtype at the beginning\n",
    "y = np.array(numbers2)\n",
    "print(x)\n",
    "print(y)"
   ]
  },
  {
   "cell_type": "code",
   "execution_count": 28,
   "id": "90ff1ad6",
   "metadata": {},
   "outputs": [
    {
     "data": {
      "text/plain": [
       "dtype('float64')"
      ]
     },
     "execution_count": 28,
     "metadata": {},
     "output_type": "execute_result"
    }
   ],
   "source": [
    "x.dtype"
   ]
  },
  {
   "cell_type": "code",
   "execution_count": 32,
   "id": "7d727cf2",
   "metadata": {},
   "outputs": [
    {
     "data": {
      "text/plain": [
       "array([10., 15., 20., 35.])"
      ]
     },
     "execution_count": 32,
     "metadata": {},
     "output_type": "execute_result"
    }
   ],
   "source": [
    "x"
   ]
  },
  {
   "cell_type": "code",
   "execution_count": 35,
   "id": "e72abef0",
   "metadata": {},
   "outputs": [
    {
     "data": {
      "text/plain": [
       "10.0"
      ]
     },
     "execution_count": 35,
     "metadata": {},
     "output_type": "execute_result"
    }
   ],
   "source": [
    "x[0] # first element"
   ]
  },
  {
   "cell_type": "code",
   "execution_count": 33,
   "id": "0699da22",
   "metadata": {},
   "outputs": [
    {
     "data": {
      "text/plain": [
       "array([10., 15.])"
      ]
     },
     "execution_count": 33,
     "metadata": {},
     "output_type": "execute_result"
    }
   ],
   "source": [
    "x[0:2] # first two elements"
   ]
  },
  {
   "cell_type": "code",
   "execution_count": 34,
   "id": "e33ecff6",
   "metadata": {},
   "outputs": [
    {
     "data": {
      "text/plain": [
       "array([20., 35.])"
      ]
     },
     "execution_count": 34,
     "metadata": {},
     "output_type": "execute_result"
    }
   ],
   "source": [
    "x[2:]  # last two elements"
   ]
  },
  {
   "cell_type": "code",
   "execution_count": 36,
   "id": "cbc0ca57",
   "metadata": {},
   "outputs": [
    {
     "data": {
      "text/plain": [
       "array([35., 20., 15., 10.])"
      ]
     },
     "execution_count": 36,
     "metadata": {},
     "output_type": "execute_result"
    }
   ],
   "source": [
    "x[::-1] # reverses the array"
   ]
  },
  {
   "cell_type": "code",
   "execution_count": 37,
   "id": "5d256eb6",
   "metadata": {},
   "outputs": [
    {
     "data": {
      "text/plain": [
       "array([1, 2, 3, 4, 5, 6, 7])"
      ]
     },
     "execution_count": 37,
     "metadata": {},
     "output_type": "execute_result"
    }
   ],
   "source": [
    "np.arange(1,8,1)"
   ]
  },
  {
   "cell_type": "code",
   "execution_count": 38,
   "id": "c11961d1",
   "metadata": {},
   "outputs": [
    {
     "data": {
      "text/plain": [
       "array([1, 2, 3, 4, 5, 6, 7])"
      ]
     },
     "execution_count": 38,
     "metadata": {},
     "output_type": "execute_result"
    }
   ],
   "source": [
    "np.arange(1,8) # default step is 1"
   ]
  },
  {
   "cell_type": "code",
   "execution_count": 39,
   "id": "53e57bdf",
   "metadata": {},
   "outputs": [
    {
     "data": {
      "text/plain": [
       "array([1, 3, 5, 7])"
      ]
     },
     "execution_count": 39,
     "metadata": {},
     "output_type": "execute_result"
    }
   ],
   "source": [
    "np.arange(1,8,2)"
   ]
  },
  {
   "cell_type": "code",
   "execution_count": 40,
   "id": "fdd35b69",
   "metadata": {},
   "outputs": [
    {
     "data": {
      "text/plain": [
       "array([1, 6])"
      ]
     },
     "execution_count": 40,
     "metadata": {},
     "output_type": "execute_result"
    }
   ],
   "source": [
    "np.arange(1,8,5)"
   ]
  },
  {
   "cell_type": "code",
   "execution_count": 41,
   "id": "4e593ab4",
   "metadata": {},
   "outputs": [
    {
     "data": {
      "text/plain": [
       "array([-6, -5, -4, -3, -2, -1,  0,  1,  2])"
      ]
     },
     "execution_count": 41,
     "metadata": {},
     "output_type": "execute_result"
    }
   ],
   "source": [
    "np.arange(-6,3) # works with negative numbers"
   ]
  },
  {
   "cell_type": "code",
   "execution_count": 42,
   "id": "b75ea3bb",
   "metadata": {},
   "outputs": [
    {
     "data": {
      "text/plain": [
       "array([ 2.,  4.,  6.,  8., 10.])"
      ]
     },
     "execution_count": 42,
     "metadata": {},
     "output_type": "execute_result"
    }
   ],
   "source": [
    "np.arange(2,10.1,2) # this includes 10"
   ]
  },
  {
   "cell_type": "code",
   "execution_count": 43,
   "id": "47fce901",
   "metadata": {},
   "outputs": [
    {
     "data": {
      "text/plain": [
       "array([2, 4, 6, 8])"
      ]
     },
     "execution_count": 43,
     "metadata": {},
     "output_type": "execute_result"
    }
   ],
   "source": [
    "np.arange(2,10,2) # does not include 10"
   ]
  },
  {
   "cell_type": "code",
   "execution_count": 44,
   "id": "2cbeb91e",
   "metadata": {},
   "outputs": [
    {
     "data": {
      "text/plain": [
       "array([5, 4, 3, 2])"
      ]
     },
     "execution_count": 44,
     "metadata": {},
     "output_type": "execute_result"
    }
   ],
   "source": [
    "np.arange(5,1,-1) # reverse order"
   ]
  },
  {
   "cell_type": "code",
   "execution_count": 45,
   "id": "c8864736",
   "metadata": {},
   "outputs": [
    {
     "name": "stdout",
     "output_type": "stream",
     "text": [
      "[10. 15. 20. 35.]\n"
     ]
    }
   ],
   "source": [
    "print(x)"
   ]
  },
  {
   "cell_type": "code",
   "execution_count": 47,
   "id": "36d906ce",
   "metadata": {},
   "outputs": [
    {
     "data": {
      "text/plain": [
       "array([20., 35.])"
      ]
     },
     "execution_count": 47,
     "metadata": {},
     "output_type": "execute_result"
    }
   ],
   "source": [
    "# slice x such that you get returned entries>=20\n",
    "x[x>=20]"
   ]
  },
  {
   "cell_type": "code",
   "execution_count": 49,
   "id": "455bfd14",
   "metadata": {},
   "outputs": [
    {
     "data": {
      "text/plain": [
       "array([], dtype=float64)"
      ]
     },
     "execution_count": 49,
     "metadata": {},
     "output_type": "execute_result"
    }
   ],
   "source": [
    "# multiple conditions, and\n",
    "# return elements in x that are <12 and > 25\n",
    "x[(x>25) & (x<12)]"
   ]
  },
  {
   "cell_type": "code",
   "execution_count": 51,
   "id": "d41ab3ca",
   "metadata": {},
   "outputs": [
    {
     "data": {
      "text/plain": [
       "array([10., 35.])"
      ]
     },
     "execution_count": 51,
     "metadata": {},
     "output_type": "execute_result"
    }
   ],
   "source": [
    "# multiple conditions, or\n",
    "# return elements in x that are <12 or > 25\n",
    "x[(x>25) | (x<12)]"
   ]
  },
  {
   "cell_type": "code",
   "execution_count": 54,
   "id": "3c02bc1f",
   "metadata": {},
   "outputs": [
    {
     "data": {
      "text/plain": [
       "array([20.])"
      ]
     },
     "execution_count": 54,
     "metadata": {},
     "output_type": "execute_result"
    }
   ],
   "source": [
    "# return elements equal to 20\n",
    "x[x==20]"
   ]
  },
  {
   "cell_type": "code",
   "execution_count": 53,
   "id": "cb4b530d",
   "metadata": {},
   "outputs": [
    {
     "data": {
      "text/plain": [
       "array([10., 15., 35.])"
      ]
     },
     "execution_count": 53,
     "metadata": {},
     "output_type": "execute_result"
    }
   ],
   "source": [
    "# return all elements except 20\n",
    "x[~(x==20)]"
   ]
  },
  {
   "cell_type": "code",
   "execution_count": 60,
   "id": "8116ca77",
   "metadata": {},
   "outputs": [
    {
     "name": "stdout",
     "output_type": "stream",
     "text": [
      "[[ 72  68  69  68  64  72  72]\n",
      " [200 165 160 135 120 162 190]]\n"
     ]
    }
   ],
   "source": [
    "# 2d arrays\n",
    "# here are some height data in inches\n",
    "height = [72,68,69,68,64,72,72]\n",
    "# here are some weight data in lbs\n",
    "weight = [200,165,160,135,120,162,190]\n",
    "\n",
    "# create a 2d numpy array\n",
    "metrics = np.array([height,weight])\n",
    "print(metrics)"
   ]
  },
  {
   "cell_type": "code",
   "execution_count": 62,
   "id": "f232bb59",
   "metadata": {},
   "outputs": [
    {
     "data": {
      "text/plain": [
       "(2, 7)"
      ]
     },
     "execution_count": 62,
     "metadata": {},
     "output_type": "execute_result"
    }
   ],
   "source": [
    "metrics.shape # shape of matrix"
   ]
  },
  {
   "cell_type": "code",
   "execution_count": 63,
   "id": "a1f10a0d",
   "metadata": {},
   "outputs": [
    {
     "data": {
      "text/plain": [
       "14"
      ]
     },
     "execution_count": 63,
     "metadata": {},
     "output_type": "execute_result"
    }
   ],
   "source": [
    "metrics.size # size of the matrix"
   ]
  },
  {
   "cell_type": "code",
   "execution_count": 64,
   "id": "174718a5",
   "metadata": {},
   "outputs": [
    {
     "data": {
      "text/plain": [
       "2"
      ]
     },
     "execution_count": 64,
     "metadata": {},
     "output_type": "execute_result"
    }
   ],
   "source": [
    "metrics.ndim # dimensions of the matrix"
   ]
  },
  {
   "cell_type": "code",
   "execution_count": 65,
   "id": "745131ac",
   "metadata": {},
   "outputs": [
    {
     "data": {
      "text/plain": [
       "160"
      ]
     },
     "execution_count": 65,
     "metadata": {},
     "output_type": "execute_result"
    }
   ],
   "source": [
    "metrics[1,2] # access 160: row position 1, col position 2"
   ]
  },
  {
   "cell_type": "code",
   "execution_count": 67,
   "id": "d79987e9",
   "metadata": {},
   "outputs": [
    {
     "data": {
      "text/plain": [
       "160"
      ]
     },
     "execution_count": 67,
     "metadata": {},
     "output_type": "execute_result"
    }
   ],
   "source": [
    "metrics[1][2] # same number returned"
   ]
  },
  {
   "cell_type": "code",
   "execution_count": 68,
   "id": "5f22e8ed",
   "metadata": {},
   "outputs": [
    {
     "data": {
      "text/plain": [
       "array([200, 165, 160])"
      ]
     },
     "execution_count": 68,
     "metadata": {},
     "output_type": "execute_result"
    }
   ],
   "source": [
    "metrics[1,0:3] # return 200 165 160: row position 1, col position 0:3"
   ]
  },
  {
   "cell_type": "code",
   "execution_count": 71,
   "id": "7e664778",
   "metadata": {},
   "outputs": [
    {
     "data": {
      "text/plain": [
       "array([[1, 2, 3],\n",
       "       [4, 5, 6],\n",
       "       [7, 8, 9]])"
      ]
     },
     "execution_count": 71,
     "metadata": {},
     "output_type": "execute_result"
    }
   ],
   "source": [
    "# reshape() function\n",
    "# create a vector of numbers from 1 through 9, step=1\n",
    "x = np.arange(1,10)\n",
    "x.reshape(3,3) # convert x such that x now has 3 rows and 3 cols"
   ]
  },
  {
   "cell_type": "code",
   "execution_count": null,
   "id": "79d16ff2",
   "metadata": {},
   "outputs": [],
   "source": []
  },
  {
   "cell_type": "code",
   "execution_count": null,
   "id": "7dc5a637",
   "metadata": {},
   "outputs": [],
   "source": []
  },
  {
   "cell_type": "code",
   "execution_count": null,
   "id": "20decd86",
   "metadata": {},
   "outputs": [],
   "source": []
  },
  {
   "cell_type": "code",
   "execution_count": null,
   "id": "6a33633f",
   "metadata": {},
   "outputs": [],
   "source": []
  },
  {
   "cell_type": "code",
   "execution_count": null,
   "id": "b3a1ddc3",
   "metadata": {},
   "outputs": [],
   "source": []
  },
  {
   "cell_type": "code",
   "execution_count": null,
   "id": "922f83de",
   "metadata": {},
   "outputs": [],
   "source": []
  },
  {
   "cell_type": "code",
   "execution_count": null,
   "id": "ef5d5b54",
   "metadata": {},
   "outputs": [],
   "source": []
  }
 ],
 "metadata": {
  "kernelspec": {
   "display_name": "Python 3",
   "language": "python",
   "name": "python3"
  },
  "language_info": {
   "codemirror_mode": {
    "name": "ipython",
    "version": 3
   },
   "file_extension": ".py",
   "mimetype": "text/x-python",
   "name": "python",
   "nbconvert_exporter": "python",
   "pygments_lexer": "ipython3",
   "version": "3.9.11"
  }
 },
 "nbformat": 4,
 "nbformat_minor": 5
}
