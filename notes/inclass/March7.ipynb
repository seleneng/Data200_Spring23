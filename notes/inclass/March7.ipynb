{
 "cells": [
  {
   "cell_type": "code",
   "execution_count": 1,
   "id": "6903c6b5",
   "metadata": {},
   "outputs": [],
   "source": [
    "import pandas as pd"
   ]
  },
  {
   "cell_type": "code",
   "execution_count": 8,
   "id": "d29530e1",
   "metadata": {},
   "outputs": [],
   "source": [
    "# aggregating data\n",
    "indicators = pd.read_csv(r\"C:\\Users\\bilene.FAS\\Downloads\\indicators.txt\")"
   ]
  },
  {
   "cell_type": "code",
   "execution_count": 11,
   "id": "f87e448e",
   "metadata": {},
   "outputs": [],
   "source": [
    "ind1 = indicators[indicators.code.isin(['CHN','IND','USA'])]\\\n",
    "                                                     .reset_index(drop=True)\\\n",
    "                                                     .drop(columns=['cell'])\n",
    "data2 = [['DEU','Germany',82.66,3693,80.99],\n",
    "         ['GBR','United Kingdom',66.06,2637,81.16]]\n",
    "# define df named ind2 using data2 LoL\n",
    "ind2 = pd.DataFrame(data2,columns=['code','country','pop','gdp','life'])\n",
    "new_data = {'code':ind1.code,\n",
    "            'country':ind1.country,\n",
    "            'imports':[2241,392,1601],\n",
    "            'exports':[1504,266,2280]}\n",
    "ind3 = pd.DataFrame(new_data)\n",
    "table1 = ind3\n",
    "table1.index = table1.code\n",
    "table1.drop(columns=['code'],inplace=True)\n",
    "country_landDoL = {'code':['BEL','GBR','USA','VNM'],\n",
    "                   'country':['Belgium','United Kingdom','United States',\\\n",
    "                             'Vietnam'],\n",
    "                  'land':[30280,241930,9147420,310070]\n",
    "                  }\n",
    "table2 = pd.DataFrame(country_landDoL,columns=['code','country','land'])\n",
    "table2.index = table2.code\n",
    "table2.drop(columns=['code'],inplace=True)\n",
    "output = table1.join(table2[['land']],how='outer')"
   ]
  },
  {
   "cell_type": "code",
   "execution_count": 17,
   "id": "fc84095d",
   "metadata": {},
   "outputs": [
    {
     "data": {
      "text/html": [
       "<div>\n",
       "<style scoped>\n",
       "    .dataframe tbody tr th:only-of-type {\n",
       "        vertical-align: middle;\n",
       "    }\n",
       "\n",
       "    .dataframe tbody tr th {\n",
       "        vertical-align: top;\n",
       "    }\n",
       "\n",
       "    .dataframe thead th {\n",
       "        text-align: right;\n",
       "    }\n",
       "</style>\n",
       "<table border=\"1\" class=\"dataframe\">\n",
       "  <thead>\n",
       "    <tr style=\"text-align: right;\">\n",
       "      <th></th>\n",
       "      <th>country</th>\n",
       "      <th>imports</th>\n",
       "      <th>exports</th>\n",
       "      <th>land</th>\n",
       "    </tr>\n",
       "    <tr>\n",
       "      <th>code</th>\n",
       "      <th></th>\n",
       "      <th></th>\n",
       "      <th></th>\n",
       "      <th></th>\n",
       "    </tr>\n",
       "  </thead>\n",
       "  <tbody>\n",
       "    <tr>\n",
       "      <th>CHN</th>\n",
       "      <td>China</td>\n",
       "      <td>2241.0</td>\n",
       "      <td>1504.0</td>\n",
       "      <td>NaN</td>\n",
       "    </tr>\n",
       "    <tr>\n",
       "      <th>IND</th>\n",
       "      <td>India</td>\n",
       "      <td>392.0</td>\n",
       "      <td>266.0</td>\n",
       "      <td>NaN</td>\n",
       "    </tr>\n",
       "    <tr>\n",
       "      <th>USA</th>\n",
       "      <td>United States</td>\n",
       "      <td>1601.0</td>\n",
       "      <td>2280.0</td>\n",
       "      <td>9147420.0</td>\n",
       "    </tr>\n",
       "    <tr>\n",
       "      <th>BEL</th>\n",
       "      <td>Belgium</td>\n",
       "      <td>NaN</td>\n",
       "      <td>NaN</td>\n",
       "      <td>30280.0</td>\n",
       "    </tr>\n",
       "    <tr>\n",
       "      <th>GBR</th>\n",
       "      <td>United Kingdom</td>\n",
       "      <td>NaN</td>\n",
       "      <td>NaN</td>\n",
       "      <td>241930.0</td>\n",
       "    </tr>\n",
       "    <tr>\n",
       "      <th>VNM</th>\n",
       "      <td>Vietnam</td>\n",
       "      <td>NaN</td>\n",
       "      <td>NaN</td>\n",
       "      <td>310070.0</td>\n",
       "    </tr>\n",
       "  </tbody>\n",
       "</table>\n",
       "</div>"
      ],
      "text/plain": [
       "             country  imports  exports       land\n",
       "code                                             \n",
       "CHN            China   2241.0   1504.0        NaN\n",
       "IND            India    392.0    266.0        NaN\n",
       "USA    United States   1601.0   2280.0  9147420.0\n",
       "BEL          Belgium      NaN      NaN    30280.0\n",
       "GBR   United Kingdom      NaN      NaN   241930.0\n",
       "VNM          Vietnam      NaN      NaN   310070.0"
      ]
     },
     "execution_count": 17,
     "metadata": {},
     "output_type": "execute_result"
    }
   ],
   "source": [
    "pd.concat([table1,table2],axis=0)[['country']].drop_duplicates()\\\n",
    "                                                 .merge(output.drop(columns=['country'])\\\n",
    "                                                    ,on='code')\n",
    "# merge it with output df."
   ]
  },
  {
   "cell_type": "code",
   "execution_count": 18,
   "id": "284a0248",
   "metadata": {},
   "outputs": [],
   "source": [
    "indicators = pd.read_csv('https://raw.githubusercontent.com/ernbilen/Data200_Spring23/main/data/indicators-main.csv')"
   ]
  },
  {
   "cell_type": "code",
   "execution_count": 19,
   "id": "5591fd26",
   "metadata": {},
   "outputs": [
    {
     "data": {
      "text/html": [
       "<div>\n",
       "<style scoped>\n",
       "    .dataframe tbody tr th:only-of-type {\n",
       "        vertical-align: middle;\n",
       "    }\n",
       "\n",
       "    .dataframe tbody tr th {\n",
       "        vertical-align: top;\n",
       "    }\n",
       "\n",
       "    .dataframe thead th {\n",
       "        text-align: right;\n",
       "    }\n",
       "</style>\n",
       "<table border=\"1\" class=\"dataframe\">\n",
       "  <thead>\n",
       "    <tr style=\"text-align: right;\">\n",
       "      <th></th>\n",
       "      <th>code</th>\n",
       "      <th>year</th>\n",
       "      <th>country</th>\n",
       "      <th>pop</th>\n",
       "      <th>gdp</th>\n",
       "      <th>life</th>\n",
       "      <th>cell</th>\n",
       "    </tr>\n",
       "  </thead>\n",
       "  <tbody>\n",
       "    <tr>\n",
       "      <th>0</th>\n",
       "      <td>ABW</td>\n",
       "      <td>1960</td>\n",
       "      <td>Aruba</td>\n",
       "      <td>0.05</td>\n",
       "      <td>NaN</td>\n",
       "      <td>65.66</td>\n",
       "      <td>0.00</td>\n",
       "    </tr>\n",
       "    <tr>\n",
       "      <th>1</th>\n",
       "      <td>ABW</td>\n",
       "      <td>1961</td>\n",
       "      <td>Aruba</td>\n",
       "      <td>0.06</td>\n",
       "      <td>NaN</td>\n",
       "      <td>66.07</td>\n",
       "      <td>NaN</td>\n",
       "    </tr>\n",
       "    <tr>\n",
       "      <th>2</th>\n",
       "      <td>ABW</td>\n",
       "      <td>1962</td>\n",
       "      <td>Aruba</td>\n",
       "      <td>0.06</td>\n",
       "      <td>NaN</td>\n",
       "      <td>66.44</td>\n",
       "      <td>NaN</td>\n",
       "    </tr>\n",
       "    <tr>\n",
       "      <th>3</th>\n",
       "      <td>ABW</td>\n",
       "      <td>1963</td>\n",
       "      <td>Aruba</td>\n",
       "      <td>0.06</td>\n",
       "      <td>NaN</td>\n",
       "      <td>66.79</td>\n",
       "      <td>NaN</td>\n",
       "    </tr>\n",
       "    <tr>\n",
       "      <th>4</th>\n",
       "      <td>ABW</td>\n",
       "      <td>1964</td>\n",
       "      <td>Aruba</td>\n",
       "      <td>0.06</td>\n",
       "      <td>NaN</td>\n",
       "      <td>67.11</td>\n",
       "      <td>NaN</td>\n",
       "    </tr>\n",
       "    <tr>\n",
       "      <th>...</th>\n",
       "      <td>...</td>\n",
       "      <td>...</td>\n",
       "      <td>...</td>\n",
       "      <td>...</td>\n",
       "      <td>...</td>\n",
       "      <td>...</td>\n",
       "      <td>...</td>\n",
       "    </tr>\n",
       "    <tr>\n",
       "      <th>12535</th>\n",
       "      <td>ZWE</td>\n",
       "      <td>2012</td>\n",
       "      <td>Zimbabwe</td>\n",
       "      <td>14.71</td>\n",
       "      <td>14.24</td>\n",
       "      <td>56.52</td>\n",
       "      <td>12.61</td>\n",
       "    </tr>\n",
       "    <tr>\n",
       "      <th>12536</th>\n",
       "      <td>ZWE</td>\n",
       "      <td>2013</td>\n",
       "      <td>Zimbabwe</td>\n",
       "      <td>15.05</td>\n",
       "      <td>15.45</td>\n",
       "      <td>58.05</td>\n",
       "      <td>13.63</td>\n",
       "    </tr>\n",
       "    <tr>\n",
       "      <th>12537</th>\n",
       "      <td>ZWE</td>\n",
       "      <td>2014</td>\n",
       "      <td>Zimbabwe</td>\n",
       "      <td>15.41</td>\n",
       "      <td>15.89</td>\n",
       "      <td>59.36</td>\n",
       "      <td>11.80</td>\n",
       "    </tr>\n",
       "    <tr>\n",
       "      <th>12538</th>\n",
       "      <td>ZWE</td>\n",
       "      <td>2015</td>\n",
       "      <td>Zimbabwe</td>\n",
       "      <td>15.78</td>\n",
       "      <td>16.30</td>\n",
       "      <td>60.40</td>\n",
       "      <td>12.76</td>\n",
       "    </tr>\n",
       "    <tr>\n",
       "      <th>12539</th>\n",
       "      <td>ZWE</td>\n",
       "      <td>2016</td>\n",
       "      <td>Zimbabwe</td>\n",
       "      <td>16.15</td>\n",
       "      <td>16.62</td>\n",
       "      <td>61.16</td>\n",
       "      <td>12.88</td>\n",
       "    </tr>\n",
       "  </tbody>\n",
       "</table>\n",
       "<p>12540 rows × 7 columns</p>\n",
       "</div>"
      ],
      "text/plain": [
       "      code  year   country    pop    gdp   life   cell\n",
       "0      ABW  1960     Aruba   0.05    NaN  65.66   0.00\n",
       "1      ABW  1961     Aruba   0.06    NaN  66.07    NaN\n",
       "2      ABW  1962     Aruba   0.06    NaN  66.44    NaN\n",
       "3      ABW  1963     Aruba   0.06    NaN  66.79    NaN\n",
       "4      ABW  1964     Aruba   0.06    NaN  67.11    NaN\n",
       "...    ...   ...       ...    ...    ...    ...    ...\n",
       "12535  ZWE  2012  Zimbabwe  14.71  14.24  56.52  12.61\n",
       "12536  ZWE  2013  Zimbabwe  15.05  15.45  58.05  13.63\n",
       "12537  ZWE  2014  Zimbabwe  15.41  15.89  59.36  11.80\n",
       "12538  ZWE  2015  Zimbabwe  15.78  16.30  60.40  12.76\n",
       "12539  ZWE  2016  Zimbabwe  16.15  16.62  61.16  12.88\n",
       "\n",
       "[12540 rows x 7 columns]"
      ]
     },
     "execution_count": 19,
     "metadata": {},
     "output_type": "execute_result"
    }
   ],
   "source": [
    "indicators"
   ]
  },
  {
   "cell_type": "code",
   "execution_count": 24,
   "id": "091092f4",
   "metadata": {},
   "outputs": [
    {
     "data": {
      "text/plain": [
       "array(['Aruba', 'Afghanistan', 'Angola', 'Albania', 'Andorra',\n",
       "       'United Arab Emirates', 'Argentina', 'Armenia', 'American Samoa',\n",
       "       'Antigua and Barbuda', 'Australia', 'Austria', 'Azerbaijan',\n",
       "       'Burundi', 'Belgium', 'Benin', 'Burkina Faso', 'Bangladesh',\n",
       "       'Bulgaria', 'Bahrain', 'Bahamas, The', 'Bosnia and Herzegovina',\n",
       "       'Belarus', 'Belize', 'Bermuda', 'Bolivia', 'Brazil', 'Barbados',\n",
       "       'Brunei Darussalam', 'Bhutan', 'Botswana',\n",
       "       'Central African Republic', 'Canada', 'Switzerland',\n",
       "       'Channel Islands', 'Chile', 'China', \"Cote d'Ivoire\", 'Cameroon',\n",
       "       'Congo, Dem. Rep.', 'Congo, Rep.', 'Colombia', 'Comoros',\n",
       "       'Cabo Verde', 'Costa Rica', 'Cuba', 'Curacao', 'Cayman Islands',\n",
       "       'Cyprus', 'Czech Republic', 'Germany', 'Djibouti', 'Dominica',\n",
       "       'Denmark', 'Dominican Republic', 'Algeria', 'Ecuador',\n",
       "       'Egypt, Arab Rep.', 'Eritrea', 'Spain', 'Estonia', 'Ethiopia',\n",
       "       'Finland', 'Fiji', 'France', 'Faroe Islands',\n",
       "       'Micronesia, Fed. Sts.', 'Gabon', 'United Kingdom', 'Georgia',\n",
       "       'Ghana', 'Gibraltar', 'Guinea', 'Gambia, The', 'Guinea-Bissau',\n",
       "       'Equatorial Guinea', 'Greece', 'Grenada', 'Greenland', 'Guatemala',\n",
       "       'Guam', 'Guyana', 'Hong Kong SAR, China', 'Honduras', 'Croatia',\n",
       "       'Haiti', 'Hungary', 'Indonesia', 'Isle of Man', 'India', 'Ireland',\n",
       "       'Iran, Islamic Rep.', 'Iraq', 'Iceland', 'Israel', 'Italy',\n",
       "       'Jamaica', 'Jordan', 'Japan', 'Kazakhstan', 'Kenya',\n",
       "       'Kyrgyz Republic', 'Cambodia', 'Kiribati', 'St. Kitts and Nevis',\n",
       "       'Korea, Rep.', 'Kuwait', 'Lao PDR', 'Lebanon', 'Liberia', 'Libya',\n",
       "       'St. Lucia', 'Liechtenstein', 'Sri Lanka', 'Lesotho', 'Lithuania',\n",
       "       'Luxembourg', 'Latvia', 'Macao SAR, China',\n",
       "       'St. Martin (French part)', 'Morocco', 'Monaco', 'Moldova',\n",
       "       'Madagascar', 'Maldives', 'Mexico', 'Marshall Islands',\n",
       "       'Macedonia, FYR', 'Mali', 'Malta', 'Myanmar', 'Montenegro',\n",
       "       'Mongolia', 'Northern Mariana Islands', 'Mozambique', 'Mauritania',\n",
       "       'Mauritius', 'Malawi', 'Malaysia', 'Namibia', 'New Caledonia',\n",
       "       'Niger', 'Nigeria', 'Nicaragua', 'Netherlands', 'Norway', 'Nepal',\n",
       "       'Nauru', 'New Zealand', 'Oman', 'Pakistan', 'Panama', 'Peru',\n",
       "       'Philippines', 'Palau', 'Papua New Guinea', 'Poland',\n",
       "       'Puerto Rico', 'Korea, Dem. People’s Rep.', 'Portugal', 'Paraguay',\n",
       "       'West Bank and Gaza', 'French Polynesia', 'Qatar', 'Romania',\n",
       "       'Russian Federation', 'Rwanda', 'Saudi Arabia', 'Sudan', 'Senegal',\n",
       "       'Singapore', 'Solomon Islands', 'Sierra Leone', 'El Salvador',\n",
       "       'San Marino', 'Somalia', 'Serbia', 'South Sudan',\n",
       "       'Sao Tome and Principe', 'Suriname', 'Slovak Republic', 'Slovenia',\n",
       "       'Sweden', 'Swaziland', 'Sint Maarten (Dutch part)', 'Seychelles',\n",
       "       'Syrian Arab Republic', 'Turks and Caicos Islands', 'Chad', 'Togo',\n",
       "       'Thailand', 'Tajikistan', 'Turkmenistan', 'Timor-Leste',\n",
       "       'Middle East & North Africa (IDA & IBRD countries)', 'Tonga',\n",
       "       'South Asia (IDA & IBRD)', 'Trinidad and Tobago', 'Tunisia',\n",
       "       'Turkey', 'Tuvalu', 'Tanzania', 'Uganda', 'Ukraine', 'Uruguay',\n",
       "       'United States', 'Uzbekistan', 'St. Vincent and the Grenadines',\n",
       "       'Venezuela, RB', 'British Virgin Islands', 'Virgin Islands (U.S.)',\n",
       "       'Vietnam', 'Vanuatu', 'World', 'Samoa', 'Kosovo', 'Yemen, Rep.',\n",
       "       'South Africa', 'Zambia', 'Zimbabwe'], dtype=object)"
      ]
     },
     "execution_count": 24,
     "metadata": {},
     "output_type": "execute_result"
    }
   ],
   "source": [
    "indicators.country.unique() # returns the unique values in a column"
   ]
  },
  {
   "cell_type": "code",
   "execution_count": 25,
   "id": "ac6badd4",
   "metadata": {},
   "outputs": [
    {
     "data": {
      "text/plain": [
       "Aruba            57\n",
       "Panama           57\n",
       "New Caledonia    57\n",
       "Niger            57\n",
       "Nigeria          57\n",
       "                 ..\n",
       "Greece           57\n",
       "Grenada          57\n",
       "Greenland        57\n",
       "Guatemala        57\n",
       "Zimbabwe         57\n",
       "Name: country, Length: 220, dtype: int64"
      ]
     },
     "execution_count": 25,
     "metadata": {},
     "output_type": "execute_result"
    }
   ],
   "source": [
    "indicators.country.value_counts()"
   ]
  },
  {
   "cell_type": "code",
   "execution_count": 26,
   "id": "929a888f",
   "metadata": {},
   "outputs": [
    {
     "data": {
      "text/plain": [
       "Aruba            0.004545\n",
       "Panama           0.004545\n",
       "New Caledonia    0.004545\n",
       "Niger            0.004545\n",
       "Nigeria          0.004545\n",
       "                   ...   \n",
       "Greece           0.004545\n",
       "Grenada          0.004545\n",
       "Greenland        0.004545\n",
       "Guatemala        0.004545\n",
       "Zimbabwe         0.004545\n",
       "Name: country, Length: 220, dtype: float64"
      ]
     },
     "execution_count": 26,
     "metadata": {},
     "output_type": "execute_result"
    }
   ],
   "source": [
    "indicators.country.value_counts(normalize=True) # returns percentages"
   ]
  },
  {
   "cell_type": "code",
   "execution_count": 29,
   "id": "cdf6ddcb",
   "metadata": {},
   "outputs": [
    {
     "data": {
      "text/html": [
       "<div>\n",
       "<style scoped>\n",
       "    .dataframe tbody tr th:only-of-type {\n",
       "        vertical-align: middle;\n",
       "    }\n",
       "\n",
       "    .dataframe tbody tr th {\n",
       "        vertical-align: top;\n",
       "    }\n",
       "\n",
       "    .dataframe thead th {\n",
       "        text-align: right;\n",
       "    }\n",
       "</style>\n",
       "<table border=\"1\" class=\"dataframe\">\n",
       "  <thead>\n",
       "    <tr style=\"text-align: right;\">\n",
       "      <th></th>\n",
       "      <th>Year</th>\n",
       "      <th>Badlands</th>\n",
       "      <th>GrandCanyon</th>\n",
       "      <th>BryceCanyon</th>\n",
       "    </tr>\n",
       "  </thead>\n",
       "  <tbody>\n",
       "    <tr>\n",
       "      <th>0</th>\n",
       "      <td>1961</td>\n",
       "      <td>833300</td>\n",
       "      <td>1253000</td>\n",
       "      <td>264800</td>\n",
       "    </tr>\n",
       "    <tr>\n",
       "      <th>1</th>\n",
       "      <td>1962</td>\n",
       "      <td>1044800</td>\n",
       "      <td>1447400</td>\n",
       "      <td>251000</td>\n",
       "    </tr>\n",
       "    <tr>\n",
       "      <th>2</th>\n",
       "      <td>1963</td>\n",
       "      <td>1074000</td>\n",
       "      <td>1539500</td>\n",
       "      <td>289500</td>\n",
       "    </tr>\n",
       "    <tr>\n",
       "      <th>3</th>\n",
       "      <td>1964</td>\n",
       "      <td>1079800</td>\n",
       "      <td>1576600</td>\n",
       "      <td>300300</td>\n",
       "    </tr>\n",
       "    <tr>\n",
       "      <th>4</th>\n",
       "      <td>1965</td>\n",
       "      <td>1091300</td>\n",
       "      <td>1689200</td>\n",
       "      <td>366800</td>\n",
       "    </tr>\n",
       "  </tbody>\n",
       "</table>\n",
       "</div>"
      ],
      "text/plain": [
       "   Year  Badlands  GrandCanyon  BryceCanyon\n",
       "0  1961    833300      1253000       264800\n",
       "1  1962   1044800      1447400       251000\n",
       "2  1963   1074000      1539500       289500\n",
       "3  1964   1079800      1576600       300300\n",
       "4  1965   1091300      1689200       366800"
      ]
     },
     "execution_count": 29,
     "metadata": {},
     "output_type": "execute_result"
    }
   ],
   "source": [
    "import matplotlib.pyplot as plt\n",
    "import pandas as pd\n",
    "\n",
    "parks = pd.read_csv('https://raw.githubusercontent.com/ernbilen/Data200_Spring23/main/data/national_parks.csv')\n",
    "parks.head()"
   ]
  },
  {
   "cell_type": "code",
   "execution_count": 68,
   "id": "6b33ec9e",
   "metadata": {},
   "outputs": [
    {
     "data": {
      "text/plain": [
       "array([1961, 1962, 1963, 1964, 1965, 1966, 1967, 1968, 1969, 1970, 1971,\n",
       "       1972, 1973, 1974, 1975, 1976, 1977, 1978, 1979, 1980, 1981, 1982,\n",
       "       1983, 1984, 1985, 1986, 1987, 1988, 1989, 1990, 1991, 1992, 1993,\n",
       "       1994, 1995, 1996, 1997, 1998, 1999, 2000, 2001, 2002, 2003, 2004,\n",
       "       2005, 2006, 2007, 2008, 2009, 2010, 2011, 2012, 2013, 2014, 2015,\n",
       "       2016, 2017], dtype=int64)"
      ]
     },
     "execution_count": 68,
     "metadata": {},
     "output_type": "execute_result"
    }
   ],
   "source": [
    "parks.Year.unique()"
   ]
  },
  {
   "cell_type": "code",
   "execution_count": 37,
   "id": "8a8a9590",
   "metadata": {},
   "outputs": [
    {
     "data": {
      "text/plain": [
       "7.54983443527075"
      ]
     },
     "execution_count": 37,
     "metadata": {},
     "output_type": "execute_result"
    }
   ],
   "source": [
    "import numpy as np\n",
    "np.sqrt(57)"
   ]
  },
  {
   "cell_type": "code",
   "execution_count": 53,
   "id": "65154f12",
   "metadata": {
    "scrolled": true
   },
   "outputs": [
    {
     "data": {
      "image/png": "[encoded data removed]",
      "text/plain": [
       "<Figure size 360x288 with 1 Axes>"
      ]
     },
     "metadata": {
      "needs_background": "light"
     },
     "output_type": "display_data"
    }
   ],
   "source": [
    "plt.figure(figsize=(5,4))\n",
    "\n",
    "plt.hist(parks.GrandCanyon,edgecolor='black',facecolor='springgreen',bins=7)\n",
    "\n",
    "plt.xlabel('# of visitors')\n",
    "plt.ylabel('count')\n",
    "\n",
    "plt.savefig(r'C:\\Users\\bilene.FAS\\OneDrive - Dickinson College\\Documents\\grand-canyon.png', dpi=300,\\\n",
    "           bbox_inches='tight')\n",
    "\n",
    "plt.show()"
   ]
  },
  {
   "cell_type": "code",
   "execution_count": 55,
   "id": "20d69d56",
   "metadata": {},
   "outputs": [
    {
     "data": {
      "image/png": "[encoded data removed]",
      "text/plain": [
       "<Figure size 432x288 with 1 Axes>"
      ]
     },
     "metadata": {
      "needs_background": "light"
     },
     "output_type": "display_data"
    }
   ],
   "source": [
    "plt.scatter(parks.Year, parks.GrandCanyon)\n",
    "plt.show()"
   ]
  },
  {
   "cell_type": "code",
   "execution_count": 62,
   "id": "71a00b64",
   "metadata": {},
   "outputs": [
    {
     "data": {
      "image/png": "[encoded data removed]",
      "text/plain": [
       "<Figure size 432x288 with 1 Axes>"
      ]
     },
     "metadata": {
      "needs_background": "light"
     },
     "output_type": "display_data"
    }
   ],
   "source": [
    "plt.plot(parks.Year, parks.GrandCanyon, label='GrandCanyon')\n",
    "plt.plot(parks.Year, parks.BryceCanyon, label='BryceCanyon')\n",
    "plt.plot(parks.Year, parks.Badlands, label='Badlands')\n",
    "plt.legend()\n",
    "plt.show()"
   ]
  },
  {
   "cell_type": "code",
   "execution_count": 65,
   "id": "7edd8476",
   "metadata": {},
   "outputs": [
    {
     "data": {
      "image/png": "[encoded data removed]",
      "text/plain": [
       "<Figure size 432x288 with 1 Axes>"
      ]
     },
     "metadata": {
      "needs_background": "light"
     },
     "output_type": "display_data"
    }
   ],
   "source": [
    "# automate labels\n",
    "\n",
    "plt.plot(parks.Year, parks.GrandCanyon, label=parks.columns[2])\n",
    "plt.plot(parks.Year, parks.BryceCanyon, label=parks.columns[3])\n",
    "plt.plot(parks.Year, parks.Badlands, label=parks.columns[1])\n",
    "plt.legend()\n",
    "plt.show()"
   ]
  },
  {
   "cell_type": "code",
   "execution_count": 77,
   "id": "811f8b4b",
   "metadata": {},
   "outputs": [
    {
     "data": {
      "image/png": "[encoded data removed]",
      "text/plain": [
       "<Figure size 432x288 with 1 Axes>"
      ]
     },
     "metadata": {
      "needs_background": "light"
     },
     "output_type": "display_data"
    }
   ],
   "source": [
    "# automate labels + graph generation\n",
    "mylist = ['GrandCanyon','BryceCanyon','Badlands']\n",
    "\n",
    "for i in range(3):\n",
    "    plt.plot(parks.Year, parks['{}'.format(mylist[i])], label=mylist[i])\n",
    "    \n",
    "plt.xlim(1960,2022)\n",
    "plt.xticks(np.arange(1960,2021,10))\n",
    "\n",
    "plt.legend()\n",
    "plt.show()"
   ]
  },
  {
   "cell_type": "code",
   "execution_count": null,
   "id": "28347f2d",
   "metadata": {},
   "outputs": [],
   "source": []
  },
  {
   "cell_type": "code",
   "execution_count": null,
   "id": "8c5568f5",
   "metadata": {},
   "outputs": [],
   "source": []
  }
 ],
 "metadata": {
  "kernelspec": {
   "display_name": "Python 3",
   "language": "python",
   "name": "python3"
  },
  "language_info": {
   "codemirror_mode": {
    "name": "ipython",
    "version": 3
   },
   "file_extension": ".py",
   "mimetype": "text/x-python",
   "name": "python",
   "nbconvert_exporter": "python",
   "pygments_lexer": "ipython3",
   "version": "3.9.11"
  }
 },
 "nbformat": 4,
 "nbformat_minor": 5
}
