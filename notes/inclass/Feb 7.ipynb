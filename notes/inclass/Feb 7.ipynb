{
 "cells": [
  {
   "cell_type": "code",
   "execution_count": 2,
   "id": "8bbb2568",
   "metadata": {},
   "outputs": [
    {
     "data": {
      "text/plain": [
       "'C:\\\\Users\\\\bilene'"
      ]
     },
     "execution_count": 2,
     "metadata": {},
     "output_type": "execute_result"
    }
   ],
   "source": [
    "import os\n",
    "os.getcwd()"
   ]
  },
  {
   "cell_type": "code",
   "execution_count": 4,
   "id": "55285ab5",
   "metadata": {},
   "outputs": [],
   "source": [
    "os.chdir(r\"C:\\Users\\bilene\\OneDrive - Dickinson College\\Documents\\GitHub\\Data200_Spring23\\homework\\hw0\")"
   ]
  },
  {
   "cell_type": "code",
   "execution_count": 5,
   "id": "05a93251",
   "metadata": {},
   "outputs": [
    {
     "data": {
      "text/plain": [
       "'C:\\\\Users\\\\bilene\\\\OneDrive - Dickinson College\\\\Documents\\\\GitHub\\\\Data200_Spring23\\\\homework\\\\hw0'"
      ]
     },
     "execution_count": 5,
     "metadata": {},
     "output_type": "execute_result"
    }
   ],
   "source": [
    "os.getcwd()"
   ]
  },
  {
   "cell_type": "code",
   "execution_count": 7,
   "id": "d830e24d",
   "metadata": {},
   "outputs": [],
   "source": [
    "os.mkdir('newfolder')"
   ]
  },
  {
   "cell_type": "code",
   "execution_count": null,
   "id": "619787df",
   "metadata": {},
   "outputs": [],
   "source": [
    "###############################################"
   ]
  },
  {
   "cell_type": "code",
   "execution_count": 37,
   "id": "e503e2cc",
   "metadata": {},
   "outputs": [
    {
     "data": {
      "text/plain": [
       "'C:\\\\Users\\\\bilene\\\\OneDrive - Dickinson College\\\\Documents\\\\GitHub\\\\Data200_Spring23\\\\data\\\\baby_2010_female_namecount.txt'"
      ]
     },
     "execution_count": 37,
     "metadata": {},
     "output_type": "execute_result"
    }
   ],
   "source": [
    "datadir = r\"C:\\Users\\bilene\\OneDrive - Dickinson College\\Documents\\GitHub\\Data200_Spring23\\data\"\n",
    "filepath = os.path.join(datadir,'baby_2010_female_namecount.txt')\n",
    "filepath"
   ]
  },
  {
   "cell_type": "code",
   "execution_count": 16,
   "id": "8e3532e3",
   "metadata": {},
   "outputs": [
    {
     "name": "stdout",
     "output_type": "stream",
     "text": [
      "file was read succesfully!\n"
     ]
    }
   ],
   "source": [
    "try:\n",
    "    file = open(filepath,'rt') #rt is default\n",
    "    filecontents = file.read()\n",
    "    newlines = filecontents.split('\\n')\n",
    "    print('file was read succesfully!')\n",
    "    file.close()\n",
    "except:\n",
    "    print('Error!')"
   ]
  },
  {
   "cell_type": "code",
   "execution_count": 17,
   "id": "28cdcea7",
   "metadata": {},
   "outputs": [
    {
     "data": {
      "text/plain": [
       "['First line', 'A second line', '']"
      ]
     },
     "execution_count": 17,
     "metadata": {},
     "output_type": "execute_result"
    }
   ],
   "source": [
    "newlines"
   ]
  },
  {
   "cell_type": "code",
   "execution_count": 14,
   "id": "9dfbedce",
   "metadata": {},
   "outputs": [
    {
     "name": "stdout",
     "output_type": "stream",
     "text": [
      "file was read succesfully!\n"
     ]
    }
   ],
   "source": [
    "try:\n",
    "    file = open(filepath,'rt') #rt is default\n",
    "    line1 = file.readline().rstrip()\n",
    "    line2 = file.readline().rstrip()\n",
    "    line3 = file.readline().rstrip()\n",
    "    print('file was read succesfully!')\n",
    "    file.close()\n",
    "except:\n",
    "    print('Error!')"
   ]
  },
  {
   "cell_type": "code",
   "execution_count": 15,
   "id": "19ee6523",
   "metadata": {},
   "outputs": [
    {
     "name": "stdout",
     "output_type": "stream",
     "text": [
      "First line\n",
      "A second line\n",
      "\n"
     ]
    }
   ],
   "source": [
    "print(line1)\n",
    "print(line2)\n",
    "print(line3)"
   ]
  },
  {
   "cell_type": "code",
   "execution_count": null,
   "id": "fdc038b2",
   "metadata": {},
   "outputs": [],
   "source": []
  },
  {
   "cell_type": "code",
   "execution_count": 19,
   "id": "d19c945f",
   "metadata": {},
   "outputs": [],
   "source": [
    "with open(filepath,'rt') as file_obj:\n",
    "    lines = file_obj.readlines()"
   ]
  },
  {
   "cell_type": "code",
   "execution_count": 23,
   "id": "839b3e6d",
   "metadata": {},
   "outputs": [
    {
     "name": "stdout",
     "output_type": "stream",
     "text": [
      "Pug\n",
      "Jack Russell Terrier\n",
      "English Springer Spaniel\n",
      "German Shepherd\n",
      "Staffordshire Bull Terrier\n",
      "Cavalier King Charles Spaniel\n",
      "Golden Retriever\n",
      "West Highland White Terrier\n",
      "Boxer\n",
      "Border Terrier\n"
     ]
    }
   ],
   "source": [
    "for line in lines:\n",
    "    print(line.strip())"
   ]
  },
  {
   "cell_type": "code",
   "execution_count": null,
   "id": "3477ab69",
   "metadata": {},
   "outputs": [],
   "source": []
  },
  {
   "cell_type": "code",
   "execution_count": 27,
   "id": "4a227c0a",
   "metadata": {},
   "outputs": [],
   "source": [
    "# readline() method\n",
    "\n",
    "with open(filepath) as file_obj:\n",
    "    names_list=[]\n",
    "    \n",
    "    for i in range(5):\n",
    "        files = file_obj.readline().strip()\n",
    "        names_list.append(files)"
   ]
  },
  {
   "cell_type": "code",
   "execution_count": 28,
   "id": "59bab367",
   "metadata": {},
   "outputs": [
    {
     "data": {
      "text/plain": [
       "['Isabella', 'Sophia', 'Emma', 'Olivia', 'Ava']"
      ]
     },
     "execution_count": 28,
     "metadata": {},
     "output_type": "execute_result"
    }
   ],
   "source": [
    "names_list"
   ]
  },
  {
   "cell_type": "code",
   "execution_count": 44,
   "id": "0444bff9",
   "metadata": {},
   "outputs": [],
   "source": [
    "# readline() method, get rid of \"5\" in the for loop\n",
    "\n",
    "with open(filepath) as file_obj:\n",
    "    names_list=[]\n",
    "    counts_list=[]\n",
    "    \n",
    "    for line in file_obj:\n",
    "        files = line.strip().split('\\t')\n",
    "        names_list.append(files[0])\n",
    "        counts_list.append(files[1])"
   ]
  },
  {
   "cell_type": "code",
   "execution_count": 45,
   "id": "b3053192",
   "metadata": {},
   "outputs": [
    {
     "data": {
      "text/plain": [
       "['Isabella', 'Sophia', 'Emma', 'Olivia', 'Ava']"
      ]
     },
     "execution_count": 45,
     "metadata": {},
     "output_type": "execute_result"
    }
   ],
   "source": [
    "names_list"
   ]
  },
  {
   "cell_type": "code",
   "execution_count": 46,
   "id": "31569868",
   "metadata": {},
   "outputs": [
    {
     "data": {
      "text/plain": [
       "['22913', '20643', '17345', '17028', '15433']"
      ]
     },
     "execution_count": 46,
     "metadata": {},
     "output_type": "execute_result"
    }
   ],
   "source": [
    "counts_list"
   ]
  },
  {
   "cell_type": "code",
   "execution_count": null,
   "id": "260b416f",
   "metadata": {},
   "outputs": [],
   "source": []
  },
  {
   "cell_type": "code",
   "execution_count": 16,
   "id": "152f1fbd",
   "metadata": {},
   "outputs": [],
   "source": []
  },
  {
   "cell_type": "code",
   "execution_count": null,
   "id": "4e26cd96",
   "metadata": {},
   "outputs": [],
   "source": []
  }
 ],
 "metadata": {
  "kernelspec": {
   "display_name": "Python 3",
   "language": "python",
   "name": "python3"
  },
  "language_info": {
   "codemirror_mode": {
    "name": "ipython",
    "version": 3
   },
   "file_extension": ".py",
   "mimetype": "text/x-python",
   "name": "python",
   "nbconvert_exporter": "python",
   "pygments_lexer": "ipython3",
   "version": "3.9.11"
  }
 },
 "nbformat": 4,
 "nbformat_minor": 5
}
