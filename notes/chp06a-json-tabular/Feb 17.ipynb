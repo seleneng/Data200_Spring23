{
 "cells": [
  {
   "cell_type": "code",
   "execution_count": 5,
   "id": "0b19ab48",
   "metadata": {},
   "outputs": [],
   "source": [
    "import json\n",
    "data  = {\n",
    "    \"Person\": {\n",
    "        \"firstName\": [\"John\",\"Alice\"],\n",
    "        \"lastName\": [\"Smith\",\"Doe\"],\n",
    "        \"age\": [35,25]\n",
    "    }\n",
    "}\n",
    "with open (\"data_file.json\", \"w\") as write_file:\n",
    "    json.dump(data, write_file)"
   ]
  },
  {
   "cell_type": "code",
   "execution_count": 6,
   "id": "d89f8845",
   "metadata": {},
   "outputs": [
    {
     "data": {
      "text/plain": [
       "{'Person': {'firstName': ['John', 'Alice'],\n",
       "  'lastName': ['Smith', 'Doe'],\n",
       "  'age': [35, 25]}}"
      ]
     },
     "execution_count": 6,
     "metadata": {},
     "output_type": "execute_result"
    }
   ],
   "source": [
    "data"
   ]
  },
  {
   "cell_type": "code",
   "execution_count": 8,
   "id": "9aa8ef56",
   "metadata": {},
   "outputs": [
    {
     "data": {
      "text/plain": [
       "{'firstName': ['John', 'Alice'], 'lastName': ['Smith', 'Doe'], 'age': [35, 25]}"
      ]
     },
     "execution_count": 8,
     "metadata": {},
     "output_type": "execute_result"
    }
   ],
   "source": [
    "data[\"Person\"]"
   ]
  },
  {
   "cell_type": "code",
   "execution_count": 10,
   "id": "fd79f636",
   "metadata": {},
   "outputs": [
    {
     "ename": "TypeError",
     "evalue": "unhashable type: 'slice'",
     "output_type": "error",
     "traceback": [
      "\u001b[1;31m---------------------------------------------------------------------------\u001b[0m",
      "\u001b[1;31mTypeError\u001b[0m                                 Traceback (most recent call last)",
      "\u001b[1;32m<ipython-input-10-86ce705d64f8>\u001b[0m in \u001b[0;36m<module>\u001b[1;34m\u001b[0m\n\u001b[1;32m----> 1\u001b[1;33m \u001b[0mdata\u001b[0m\u001b[1;33m[\u001b[0m\u001b[1;36m0\u001b[0m\u001b[1;33m:\u001b[0m\u001b[1;33m]\u001b[0m\u001b[1;33m\u001b[0m\u001b[1;33m\u001b[0m\u001b[0m\n\u001b[0m",
      "\u001b[1;31mTypeError\u001b[0m: unhashable type: 'slice'"
     ]
    }
   ],
   "source": [
    "data[0] # does not run because dict!"
   ]
  },
  {
   "cell_type": "code",
   "execution_count": 3,
   "id": "c18eb551",
   "metadata": {},
   "outputs": [],
   "source": [
    "# read \"data_file.json\" and store it under a dict named data_new\n",
    "with open(\"data_file.json\", \"r\") as read_file:\n",
    "    data_new = json.load(read_file)"
   ]
  },
  {
   "cell_type": "code",
   "execution_count": 4,
   "id": "0490783f",
   "metadata": {},
   "outputs": [
    {
     "data": {
      "text/plain": [
       "{'Person': {'firstName': 'John', 'lastName': 'Smith', 'age': 35}}"
      ]
     },
     "execution_count": 4,
     "metadata": {},
     "output_type": "execute_result"
    }
   ],
   "source": [
    "data_new"
   ]
  }
 ],
 "metadata": {
  "kernelspec": {
   "display_name": "Python 3",
   "language": "python",
   "name": "python3"
  },
  "language_info": {
   "codemirror_mode": {
    "name": "ipython",
    "version": 3
   },
   "file_extension": ".py",
   "mimetype": "text/x-python",
   "name": "python",
   "nbconvert_exporter": "python",
   "pygments_lexer": "ipython3",
   "version": "3.9.11"
  }
 },
 "nbformat": 4,
 "nbformat_minor": 5
}
